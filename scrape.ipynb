{
 "cells": [
  {
   "cell_type": "markdown",
   "metadata": {
    "id": "199LBEp3QRE-"
   },
   "source": [
    "# Using Github to scrape WARN list\n",
    "\n",
    "Based on IRE's tutorial “Web scraping with Python.” Consult [the original material](https://github.com/ireapps/teaching-guide-python-scraping) to learn more about how to write a web scraper."
   ]
  },
  {
   "cell_type": "code",
   "execution_count": 1,
   "metadata": {
    "id": "nFuoIV72QRFA"
   },
   "outputs": [],
   "source": [
    "import requests\n",
    "import bs4"
   ]
  },
  {
   "cell_type": "code",
   "execution_count": 2,
   "metadata": {
    "id": "mV8yPeQOQRFB"
   },
   "outputs": [],
   "source": [
    "URL = 'https://ccwd.hecc.oregon.gov/Layoff/WARN'"
   ]
  },
  {
   "cell_type": "code",
   "execution_count": 3,
   "metadata": {
    "id": "Z39DbfUeQRFC"
   },
   "outputs": [],
   "source": [
    "warn_page = requests.get(URL)"
   ]
  },
  {
   "cell_type": "code",
   "execution_count": 4,
   "metadata": {
    "id": "nJmgmPeGQRFC"
   },
   "outputs": [],
   "source": [
    "soup = bs4.BeautifulSoup(warn_page.text, 'html.parser')"
   ]
  },
  {
   "cell_type": "code",
   "execution_count": 10,
   "metadata": {
    "id": "LfAMZW-mQRFC"
   },
   "outputs": [],
   "source": [
    "table = soup.find('table', id='index')"
   ]
  },
  {
   "cell_type": "code",
   "execution_count": 11,
   "metadata": {
    "id": "ho0iHSDcQRFC"
   },
   "outputs": [],
   "source": [
    "rows = table.find_all('tr')"
   ]
  },
  {
   "cell_type": "code",
   "execution_count": 12,
   "metadata": {
    "id": "RBay6MWSQRFC"
   },
   "outputs": [],
   "source": [
    "import csv"
   ]
  },
  {
   "cell_type": "code",
   "execution_count": 13,
   "metadata": {
    "id": "WitxmmSCQRFD"
   },
   "outputs": [],
   "source": [
    "HEADERS = [\n",
    "    'track_number',\n",
    "    'notification_date',\n",
    "    'layoff_type',\n",
    "    'count',\n",
    "    'employer',\n",
    "    'city',\n",
    "    'notice_link'\n",
    "]"
   ]
  },
  {
   "cell_type": "code",
   "execution_count": 14,
   "metadata": {
    "id": "nB0S5guaQRFD"
   },
   "outputs": [],
   "source": [
    "with open('or-warn-data.csv', 'w', newline='') as outfile:\n",
    "    writer = csv.writer(outfile)\n",
    "    writer.writerow(HEADERS)\n",
    "    for row in rows[1:]:\n",
    "        cells = row.find_all('td')\n",
    "        values = [c.text.strip() for c in cells]\n",
    "        writer.writerow(values)"
   ]
  },
  {
   "cell_type": "code",
   "execution_count": null,
   "metadata": {},
   "outputs": [],
   "source": []
  }
 ],
 "metadata": {
  "colab": {
   "provenance": []
  },
  "kernelspec": {
   "display_name": "Python 3",
   "language": "python",
   "name": "python3"
  },
  "language_info": {
   "codemirror_mode": {
    "name": "ipython",
    "version": 3
   },
   "file_extension": ".py",
   "mimetype": "text/x-python",
   "name": "python",
   "nbconvert_exporter": "python",
   "pygments_lexer": "ipython3",
   "version": "3.6.13"
  },
  "vscode": {
   "interpreter": {
    "hash": "397704579725e15f5c7cb49fe5f0341eb7531c82d19f2c29d197e8b64ab5776b"
   }
  }
 },
 "nbformat": 4,
 "nbformat_minor": 1
}
